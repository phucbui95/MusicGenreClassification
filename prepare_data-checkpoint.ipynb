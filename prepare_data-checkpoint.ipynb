{
 "cells": [
  {
   "cell_type": "code",
   "execution_count": 18,
   "metadata": {},
   "outputs": [],
   "source": [
    "# These are all the modules we'll be using later. Make sure you can import them\n",
    "# before proceeding further.\n",
    "from __future__ import print_function\n",
    "import matplotlib.pyplot as plt\n",
    "import numpy as np\n",
    "import os\n",
    "import sys\n",
    "import tarfile\n",
    "from IPython.display import display, Image\n",
    "from scipy import ndimage\n",
    "from sklearn.linear_model import LogisticRegression\n",
    "from six.moves.urllib.request import urlretrieve\n",
    "from six.moves import cPickle as pickle\n",
    "\n",
    "import pandas as pd\n",
    "import numpy as np\n",
    "import matplotlib.pyplot as plt\n",
    "%matplotlib inline\n",
    "\n",
    "import librosa\n",
    "import librosa.display"
   ]
  },
  {
   "cell_type": "code",
   "execution_count": 19,
   "metadata": {
    "scrolled": true
   },
   "outputs": [
    {
     "name": "stdout",
     "output_type": "stream",
     "text": [
      "mkdir: data: File exists\n",
      "--2018-08-13 11:11:58--  https://dl.challenge.zalo.ai/music/train.csv\n",
      "Resolving dl.challenge.zalo.ai (dl.challenge.zalo.ai)... 120.138.68.231\n",
      "Connecting to dl.challenge.zalo.ai (dl.challenge.zalo.ai)|120.138.68.231|:443... connected.\n",
      "HTTP request sent, awaiting response... 200 OK\n",
      "Length: 133582 (130K) [application/octet-stream]\n",
      "Saving to: 'data/train.csv'\n",
      "\n",
      "data/train.csv      100%[===================>] 130.45K  --.-KB/s    in 0.02s   \n",
      "\n",
      "2018-08-13 11:11:58 (5.61 MB/s) - 'data/train.csv' saved [133582/133582]\n",
      "\n",
      "--2018-08-13 11:11:58--  https://dl.challenge.zalo.ai/music/test.csv\n",
      "Resolving dl.challenge.zalo.ai (dl.challenge.zalo.ai)... 120.138.68.231\n",
      "Connecting to dl.challenge.zalo.ai (dl.challenge.zalo.ai)|120.138.68.231|:443... connected.\n",
      "HTTP request sent, awaiting response... 200 OK\n",
      "Length: 41375 (40K) [application/octet-stream]\n",
      "Saving to: 'data/test.csv'\n",
      "\n",
      "data/test.csv       100%[===================>]  40.41K  --.-KB/s    in 0.004s  \n",
      "\n",
      "2018-08-13 11:11:58 (9.51 MB/s) - 'data/test.csv' saved [41375/41375]\n",
      "\n",
      "--2018-08-13 11:11:59--  https://dl.challenge.zalo.ai/music/genres.csv\n",
      "Resolving dl.challenge.zalo.ai (dl.challenge.zalo.ai)... 120.138.68.231\n",
      "Connecting to dl.challenge.zalo.ai (dl.challenge.zalo.ai)|120.138.68.231|:443... connected.\n",
      "HTTP request sent, awaiting response... 200 OK\n",
      "Length: 194 [application/octet-stream]\n",
      "Saving to: 'data/genres.csv'\n",
      "\n",
      "data/genres.csv     100%[===================>]     194  --.-KB/s    in 0s      \n",
      "\n",
      "2018-08-13 11:11:59 (5.00 MB/s) - 'data/genres.csv' saved [194/194]\n",
      "\n"
     ]
    }
   ],
   "source": [
    "!mkdir data\n",
    "!wget https://dl.challenge.zalo.ai/music/train.csv -O data/train.csv >> /dev/null\n",
    "!wget https://dl.challenge.zalo.ai/music/test.csv -O data/test.csv >> /dev/null\n",
    "!wget https://dl.challenge.zalo.ai/music/genres.csv -O data/genres.csv >> /dev/null"
   ]
  },
  {
   "cell_type": "code",
   "execution_count": null,
   "metadata": {},
   "outputs": [],
   "source": [
    "!wget https://dl.challenge.zalo.ai/music/train.zip -P data/train.zip"
   ]
  },
  {
   "cell_type": "code",
   "execution_count": 11,
   "metadata": {},
   "outputs": [],
   "source": [
    "df_train = pd.read_csv(os.path.join('data', 'train.csv'), header=None)\n",
    "df_genres = pd.read_csv(os.path.join('data', 'genres.csv'), header=None)\n",
    "df_test = pd.read_csv(os.path.join('data', 'test.csv'), header=None)"
   ]
  },
  {
   "cell_type": "code",
   "execution_count": 12,
   "metadata": {},
   "outputs": [
    {
     "name": "stdout",
     "output_type": "stream",
     "text": [
      "(5158, 2)\n",
      "(1733, 1)\n"
     ]
    }
   ],
   "source": [
    "print(df_train.shape)\n",
    "print(df_test.shape)"
   ]
  },
  {
   "cell_type": "code",
   "execution_count": 24,
   "metadata": {},
   "outputs": [
    {
     "data": {
      "text/plain": [
       "<Container object of 10 artists>"
      ]
     },
     "execution_count": 24,
     "metadata": {},
     "output_type": "execute_result"
    },
    {
     "data": {
      "image/png": "[encoded data removed]",
      "text/plain": [
       "<matplotlib.figure.Figure at 0x11a46f490>"
      ]
     },
     "metadata": {},
     "output_type": "display_data"
    }
   ],
   "source": [
    "df_train.columns=[\"file\", \"genre\"]\n",
    "df_genres.columns = ['genre', 'name']\n",
    "dist = df_train.groupby([\"genre\"])[\"file\"].count()\n",
    "plt.bar(range(len(dist)), dist)"
   ]
  },
  {
   "cell_type": "code",
   "execution_count": 25,
   "metadata": {},
   "outputs": [
    {
     "ename": "ImportError",
     "evalue": "No module named ffmpy",
     "traceback": [
      "\u001b[0;31m---------------------------------------------------------------------------\u001b[0m",
      "\u001b[0;31mImportError\u001b[0m                               Traceback (most recent call last)",
      "\u001b[0;32m<ipython-input-25-71eff8255495>\u001b[0m in \u001b[0;36m<module>\u001b[0;34m()\u001b[0m\n\u001b[0;32m----> 1\u001b[0;31m \u001b[0;32mimport\u001b[0m \u001b[0mffmpy\u001b[0m\u001b[0;34m\u001b[0m\u001b[0m\n\u001b[0m\u001b[1;32m      2\u001b[0m \u001b[0;32mfrom\u001b[0m \u001b[0msubprocess\u001b[0m \u001b[0;32mimport\u001b[0m \u001b[0mPIPE\u001b[0m\u001b[0;34m\u001b[0m\u001b[0m\n\u001b[1;32m      3\u001b[0m \u001b[0;32mdef\u001b[0m \u001b[0mexport_spectogram\u001b[0m\u001b[0;34m(\u001b[0m\u001b[0mfilename\u001b[0m\u001b[0;34m)\u001b[0m\u001b[0;34m:\u001b[0m\u001b[0;34m\u001b[0m\u001b[0m\n\u001b[1;32m      4\u001b[0m   \u001b[0;32mprint\u001b[0m\u001b[0;34m(\u001b[0m\u001b[0;34m\"Processing {}\"\u001b[0m\u001b[0;34m.\u001b[0m\u001b[0mformat\u001b[0m\u001b[0;34m(\u001b[0m\u001b[0mfilename\u001b[0m\u001b[0;34m)\u001b[0m\u001b[0;34m)\u001b[0m\u001b[0;34m\u001b[0m\u001b[0m\n\u001b[1;32m      5\u001b[0m   \u001b[0;31m# Turn interactive plotting off\u001b[0m\u001b[0;34m\u001b[0m\u001b[0;34m\u001b[0m\u001b[0m\n",
      "\u001b[0;31mImportError\u001b[0m: No module named ffmpy"
     ],
     "output_type": "error"
    }
   ],
   "source": [
    "import ffmpy\n",
    "from subprocess import PIPE\n",
    "def export_spectogram(filename):\n",
    "  print(\"Processing {}\".format(filename))\n",
    "  # Turn interactive plotting off\n",
    "  plt.ioff()\n",
    "  # convert mp3 to wav\n",
    "  file_id, file_ext = filename.split(\".\")\n",
    "  full_path_mp3 = os.path.join(\"data\", \"train\", filename)\n",
    "  #full_path_wav = os.path.join(\"data\", \"wav\", file_id + \".wav\")\n",
    "  output_file = \"data/spec/{}.png\".format(file_id)\n",
    "  if os.path.exists(output_file):\n",
    "    return\n",
    "  y, sr = librosa.load(full_path_mp3) \n",
    "  fig = plt.figure()\n",
    "  D = librosa.amplitude_to_db(np.abs(librosa.stft(y)), ref=np.max)\n",
    "  librosa.display.specshow(D, y_axis=None)\n",
    "  #plt.colorbar(format='%+2.0f dB')\n",
    "  plt.savefig(output_file)\n",
    "  plt.close(fig)\n",
    "  return filename"
   ]
  },
  {
   "cell_type": "code",
   "execution_count": 26,
   "metadata": {},
   "outputs": [
    {
     "name": "stdout",
     "output_type": "stream",
     "text": [
      "Collecting ffmpy\n",
      "  Downloading https://files.pythonhosted.org/packages/18/e6/4309f4c02d38aef16236650766f78e949c1b8170f5d63cc4b3be7148565f/ffmpy-0.2.2.tar.gz\n",
      "Building wheels for collected packages: ffmpy\n",
      "  Running setup.py bdist_wheel for ffmpy ... \u001b[?25ldone\n",
      "\u001b[?25h  Stored in directory: /Users/admin/Library/Caches/pip/wheels/16/28/57/96aff0d874198125b03f542d854e7ebdc61a56b09a4d49de6a\n",
      "Successfully built ffmpy\n",
      "Installing collected packages: ffmpy\n",
      "Successfully installed ffmpy-0.2.2\n"
     ]
    }
   ],
   "source": [
    "!pip install ffmpy"
   ]
  },
  {
   "cell_type": "code",
   "execution_count": null,
   "metadata": {},
   "outputs": [],
   "source": []
  }
 ],
 "metadata": {
  "kernelspec": {
   "display_name": "Python 2",
   "language": "python",
   "name": "python2"
  },
  "language_info": {
   "codemirror_mode": {
    "name": "ipython",
    "version": 2
   },
   "file_extension": ".py",
   "mimetype": "text/x-python",
   "name": "python",
   "nbconvert_exporter": "python",
   "pygments_lexer": "ipython2",
   "version": "2.7.10"
  }
 },
 "nbformat": 4,
 "nbformat_minor": 1
}
